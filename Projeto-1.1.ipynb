{
 "cells": [
  {
   "cell_type": "markdown",
   "metadata": {},
   "source": [
    "## Projeto de PDS\n",
    "Igor Dias da Silva\n",
    "\n",
    "------\n",
    "LINKS:\n",
    "\n",
    "https://scipy-cookbook.readthedocs.io/items/ApplyFIRFilter.html\n",
    "\n",
    "https://dsp.stackexchange.com/questions/32076/fft-to-spectrum-in-decibel\n",
    "\n",
    "------"
   ]
  },
  {
   "cell_type": "markdown",
   "metadata": {},
   "source": [
    "#### Questão 1.1\n",
    "\n",
    " Utilizando janelamento, crie um filtro FIR passa alta com as seguintes especificações:\n",
    " \n",
    " ωs = 0.6π, ωp = 0.75π; As = 50 dB\n",
    "\n",
    "Justifique todas as suas decisões de projeto. "
   ]
  },
  {
   "cell_type": "markdown",
   "metadata": {},
   "source": [
    "Importando as bibliotecas necessárias."
   ]
  },
  {
   "cell_type": "code",
   "execution_count": 1,
   "metadata": {},
   "outputs": [],
   "source": [
    "import numpy as np                   # Para calculos em geral, principalmente de matrizes\n",
    "from scipy import signal,special     # Para pegar a janela de Kaiser e comparar com a que eu gerei\n",
    "from scipy.fftpack import fft        # Transformada rápida de Fourier\n",
    "from scipy.signal import fftconvolve # Convolução usando a transformada rápida de Fourier\n",
    "from scipy.special import factorial     # Fatorial\n",
    "import matplotlib.pyplot as plt      # Para plotar resultados"
   ]
  },
  {
   "cell_type": "markdown",
   "metadata": {},
   "source": [
    "Definindo as funções para o cálculo da janela Kaiser"
   ]
  },
  {
   "cell_type": "code",
   "execution_count": 2,
   "metadata": {},
   "outputs": [],
   "source": [
    "# Essa implementação da overflow para valores de x a partir de 189\n",
    "# Mas para esse exercicio isso não é um problema\n",
    "# Esse problema não ocorre com a função de Bessel modificada ja implementada\n",
    "# pela biblioteca scipy, special.i0(189)\n",
    "def Bessel(x):\n",
    "    saida = 1.0\n",
    "    saida_antiga = 0\n",
    "    convergencia = 1\n",
    "    n = 1\n",
    "#     fatorial_n = 1\n",
    "    termo_somatorio = 0\n",
    "    while(convergencia > 1e-3): # Quando a diferença entre os valores é menor que 10^-3, para\n",
    "        termo_somatorio = (((x/2)**n)/(factorial(n)))**2\n",
    "        n += 1\n",
    "#         fatorial_n *= n\n",
    "        saida += termo_somatorio\n",
    "        convergencia = np.abs(saida - saida_antiga)\n",
    "        saida_antiga = saida\n",
    "        \n",
    "    return saida"
   ]
  },
  {
   "cell_type": "code",
   "execution_count": 3,
   "metadata": {},
   "outputs": [],
   "source": [
    "def janela_Kaiser(beta , M):\n",
    "    w = np.arange(0 , M)/1.0 # Essa divisão por 1 força o array pra float\n",
    "    for n in range(0 , M):\n",
    "#         numerador  = Bessel(beta*np.sqrt(1 - (1 - 2*n/M)**2))\n",
    "#         denominador = Bessel(beta)\n",
    "        numerador  = special.i0(beta*np.sqrt(1 - (1 - 2*n/M)**2))\n",
    "        denominador = special.i0(beta)\n",
    "        w[n] = numerador/denominador\n",
    "    return w"
   ]
  },
  {
   "cell_type": "markdown",
   "metadata": {},
   "source": [
    "Filtro ideal"
   ]
  },
  {
   "cell_type": "code",
   "execution_count": 4,
   "metadata": {},
   "outputs": [],
   "source": [
    "def filtro_ideal(Wc , M):\n",
    "    filtro = np.arange(0 , M)/1.0\n",
    "    alpha = (M - 1)/2\n",
    "    for n in range(0 , M):\n",
    "        filtro[n] = np.sin(Wc*(n - alpha))/(np.pi*(n - alpha))\n",
    "    return filtro"
   ]
  },
  {
   "cell_type": "markdown",
   "metadata": {},
   "source": [
    "Calculando a janela para o problema em questão"
   ]
  },
  {
   "cell_type": "code",
   "execution_count": 5,
   "metadata": {},
   "outputs": [],
   "source": [
    "# Dados da questão\n",
    "Ws = 0.3*np.pi\n",
    "Wp = 0.2*np.pi\n",
    "As = 50\n",
    "\n",
    "\n",
    "Wc = (Ws + Wp)/2\n",
    "\n",
    "delta_W = np.abs(Wp - Ws)\n",
    "\n",
    "beta = 0.5842*(As - 21)**0.4 + 0.07886*(As - 21) # Para As =  50\n",
    "\n",
    "M = int(np.ceil(((As - 7.95)/(14.36*delta_W/(2*np.pi))+1)) + 1)"
   ]
  },
  {
   "cell_type": "code",
   "execution_count": 6,
   "metadata": {},
   "outputs": [],
   "source": [
    "w = janela_Kaiser(beta , M)"
   ]
  },
  {
   "cell_type": "code",
   "execution_count": 7,
   "metadata": {},
   "outputs": [
    {
     "data": {
      "text/plain": [
       "<StemContainer object of 3 artists>"
      ]
     },
     "execution_count": 7,
     "metadata": {},
     "output_type": "execute_result"
    },
    {
     "data": {
      "image/png": "[encoded data removed]",
      "text/plain": [
       "<Figure size 432x288 with 1 Axes>"
      ]
     },
     "metadata": {
      "needs_background": "light"
     },
     "output_type": "display_data"
    }
   ],
   "source": [
    "plt.stem(w)"
   ]
  },
  {
   "cell_type": "code",
   "execution_count": 8,
   "metadata": {},
   "outputs": [
    {
     "name": "stderr",
     "output_type": "stream",
     "text": [
      "/home/igordds/anaconda3/envs/pds/lib/python3.7/site-packages/ipykernel_launcher.py:5: RuntimeWarning: invalid value encountered in double_scalars\n",
      "  \"\"\"\n"
     ]
    }
   ],
   "source": [
    "hd = filtro_ideal(Wc , M)"
   ]
  },
  {
   "cell_type": "code",
   "execution_count": 9,
   "metadata": {},
   "outputs": [
    {
     "data": {
      "text/plain": [
       "<StemContainer object of 3 artists>"
      ]
     },
     "execution_count": 9,
     "metadata": {},
     "output_type": "execute_result"
    },
    {
     "data": {
      "image/png": "[encoded data removed]",
      "text/plain": [
       "<Figure size 432x288 with 1 Axes>"
      ]
     },
     "metadata": {
      "needs_background": "light"
     },
     "output_type": "display_data"
    }
   ],
   "source": [
    "plt.stem(hd)"
   ]
  },
  {
   "cell_type": "code",
   "execution_count": 10,
   "metadata": {},
   "outputs": [],
   "source": [
    "h = hd*w"
   ]
  },
  {
   "cell_type": "code",
   "execution_count": 11,
   "metadata": {},
   "outputs": [
    {
     "data": {
      "text/plain": [
       "<StemContainer object of 3 artists>"
      ]
     },
     "execution_count": 11,
     "metadata": {},
     "output_type": "execute_result"
    },
    {
     "data": {
      "image/png": "[encoded data removed]",
      "text/plain": [
       "<Figure size 432x288 with 1 Axes>"
      ]
     },
     "metadata": {
      "needs_background": "light"
     },
     "output_type": "display_data"
    }
   ],
   "source": [
    "plt.stem(h)"
   ]
  },
  {
   "cell_type": "code",
   "execution_count": 12,
   "metadata": {},
   "outputs": [
    {
     "name": "stderr",
     "output_type": "stream",
     "text": [
      "/home/igordds/anaconda3/envs/pds/lib/python3.7/site-packages/matplotlib/figure.py:98: MatplotlibDeprecationWarning: \n",
      "Adding an axes using the same arguments as a previous axes currently reuses the earlier instance.  In a future version, a new instance will always be created and returned.  Meanwhile, this warning can be suppressed, and the future behavior ensured, by passing a unique label to each axes instance.\n",
      "  \"Adding an axes using the same arguments as a previous axes \"\n"
     ]
    },
    {
     "data": {
      "text/plain": [
       "Text(0.5, 0, 'Frequency [rad/sample]')"
      ]
     },
     "execution_count": 12,
     "metadata": {},
     "output_type": "execute_result"
    },
    {
     "data": {
      "image/png": "[encoded data removed]",
      "text/plain": [
       "<Figure size 432x288 with 1 Axes>"
      ]
     },
     "metadata": {
      "needs_background": "light"
     },
     "output_type": "display_data"
    }
   ],
   "source": [
    "# w = np.arange(500)/np.pi\n",
    "# mag = np.abs(h)\n",
    "# h_db = 20*np.log10((mag+0.00001)/max(mag))\n",
    "\n",
    "# plt.plot(h_db)\n",
    "\n",
    "# w, h_db = signal.freqz(h)\n",
    "# plt.plot(w, 20 * np.log10(abs(h_db)), 'b')\n",
    "h[np.isnan(h)] = 0\n",
    "w, h2 = signal.freqz(h)\n",
    "fig = plt.figure()\n",
    "plt.title('Digital filter frequency response')\n",
    "ax1 = fig.add_subplot(111)\n",
    "plt.plot(w/np.pi, 20 * np.log10(abs(h2)), 'b')\n",
    "plt.ylabel('Amplitude [dB]', color='b')\n",
    "plt.xlabel('Frequency [rad/sample]')"
   ]
  },
  {
   "cell_type": "code",
   "execution_count": 13,
   "metadata": {},
   "outputs": [
    {
     "data": {
      "text/plain": [
       "Text(0.5, 0, 'Frequency [rad/sample]')"
      ]
     },
     "execution_count": 13,
     "metadata": {},
     "output_type": "execute_result"
    },
    {
     "data": {
      "image/png": "[encoded data removed]",
      "text/plain": [
       "<Figure size 432x288 with 1 Axes>"
      ]
     },
     "metadata": {
      "needs_background": "light"
     },
     "output_type": "display_data"
    }
   ],
   "source": [
    "# b = signal.firwin(80, 0.5, window=('kaiser', 8))\n",
    "b = signal.firwin(M, Wc/np.pi, window=('kaiser', beta))\n",
    "w, h = signal.freqz(b)\n",
    "fig = plt.figure()\n",
    "plt.title('Digital filter frequency response')\n",
    "ax1 = fig.add_subplot(111)\n",
    "plt.plot(w/np.pi, 20 * np.log10(abs(h)), 'b')\n",
    "plt.ylabel('Amplitude [dB]', color='b')\n",
    "plt.xlabel('Frequency [rad/sample]')"
   ]
  },
  {
   "cell_type": "code",
   "execution_count": 17,
   "metadata": {},
   "outputs": [
    {
     "data": {
      "text/plain": [
       "(61,)"
      ]
     },
     "execution_count": 17,
     "metadata": {},
     "output_type": "execute_result"
    }
   ],
   "source": [
    "b.shape"
   ]
  }
 ],
 "metadata": {
  "kernelspec": {
   "display_name": "Python (pds)",
   "language": "python",
   "name": "pds"
  },
  "language_info": {
   "codemirror_mode": {
    "name": "ipython",
    "version": 3
   },
   "file_extension": ".py",
   "mimetype": "text/x-python",
   "name": "python",
   "nbconvert_exporter": "python",
   "pygments_lexer": "ipython3",
   "version": "3.7.3"
  }
 },
 "nbformat": 4,
 "nbformat_minor": 2
}
